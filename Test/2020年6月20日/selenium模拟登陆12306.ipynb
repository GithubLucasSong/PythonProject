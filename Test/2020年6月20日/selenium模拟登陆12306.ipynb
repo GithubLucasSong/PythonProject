{
 "cells": [
  {
   "cell_type": "code",
   "execution_count": 1,
   "metadata": {},
   "outputs": [],
   "source": [
    "from time import sleep\n",
    "from selenium.webdriver import ActionChains#动作链类"
   ]
  },
  {
   "cell_type": "markdown",
   "metadata": {},
   "source": [
    "- 一组连续的操作就是动作链\n",
    "    - 滑动：鼠标点击长按之后进行偏移"
   ]
  },
  {
   "cell_type": "code",
   "execution_count": 8,
   "metadata": {},
   "outputs": [],
   "source": [
    "from selenium import webdriver\n",
    "bro = webdriver.Chrome(executable_path='./chromedriver')\n",
    "bro.get('https://www.runoob.com/try/try.php?filename=jqueryui-api-droppable')\n",
    "sleep(1)\n",
    "#如果定位的标签是存在于iframe标签之下的，则需要使用switch_to的操作进行标签定位\n",
    "bro.switch_to.frame('iframeResult')\n",
    "div_tag = bro.find_element_by_xpath('//*[@id=\"draggable\"]')\n",
    "\n",
    "#实例化动作链对象\n",
    "action = ActionChains(bro)\n",
    "#点击且长按一个标签\n",
    "action.click_and_hold(div_tag)\n",
    "for i in range(5):\n",
    "    #perform可以让动作链立即执行\n",
    "    action.move_by_offset(17,17).perform()\n",
    "    sleep(0.5)\n",
    "#对div_tag进行滑动\n",
    "bro.quit()"
   ]
  },
  {
   "cell_type": "markdown",
   "metadata": {},
   "source": [
    "- 12306模拟登录"
   ]
  },
  {
   "cell_type": "code",
   "execution_count": 9,
   "metadata": {},
   "outputs": [],
   "source": [
    "#打码平台的示例代码\n",
    "#!/usr/bin/env python\n",
    "# coding:utf-8\n",
    "\n",
    "import requests\n",
    "from hashlib import md5\n",
    "\n",
    "class Chaojiying_Client(object):\n",
    "\n",
    "    def __init__(self, username, password, soft_id):\n",
    "        self.username = username\n",
    "        password =  password.encode('utf8')\n",
    "        self.password = md5(password).hexdigest()\n",
    "        self.soft_id = soft_id\n",
    "        self.base_params = {\n",
    "            'user': self.username,\n",
    "            'pass2': self.password,\n",
    "            'softid': self.soft_id,\n",
    "        }\n",
    "        self.headers = {\n",
    "            'Connection': 'Keep-Alive',\n",
    "            'User-Agent': 'Mozilla/4.0 (compatible; MSIE 8.0; Windows NT 5.1; Trident/4.0)',\n",
    "        }\n",
    "\n",
    "    def PostPic(self, im, codetype):\n",
    "        \"\"\"\n",
    "        im: 图片字节\n",
    "        codetype: 题目类型 参考 http://www.chaojiying.com/price.html\n",
    "        \"\"\"\n",
    "        params = {\n",
    "            'codetype': codetype,\n",
    "        }\n",
    "        params.update(self.base_params)\n",
    "        files = {'userfile': ('ccc.jpg', im)}\n",
    "        r = requests.post('http://upload.chaojiying.net/Upload/Processing.php', data=params, files=files, headers=self.headers)\n",
    "        return r.json()\n",
    "\n",
    "    def ReportError(self, im_id):\n",
    "        \"\"\"\n",
    "        im_id:报错题目的图片ID\n",
    "        \"\"\"\n",
    "        params = {\n",
    "            'id': im_id,\n",
    "        }\n",
    "        params.update(self.base_params)\n",
    "        r = requests.post('http://upload.chaojiying.net/Upload/ReportError.php', data=params, headers=self.headers)\n",
    "        return r.json()\n"
   ]
  },
  {
   "cell_type": "code",
   "execution_count": 14,
   "metadata": {},
   "outputs": [],
   "source": [
    "def transform_codeImg(imgPath,imgType):\n",
    "    chaojiying = Chaojiying_Client('bobo328410948', 'bobo328410948', '899370')\t#用户中心>>软件ID 生成一个替换 96001\n",
    "    im = open(imgPath, 'rb').read()\t\t\t\t\t\t\t\t\t\t\t\t\t#本地图片文件路径 来替换 a.jpg 有时WIN系统须要//\n",
    "    return chaojiying.PostPic(im, imgType)['pic_str']\t\t\t\t\t\t\t\t\t\t\t\t#1902 验证码类型  官方网站>>价格体系 3.4+版 print 后要加()\n",
    "\n"
   ]
  },
  {
   "cell_type": "markdown",
   "metadata": {},
   "source": [
    "- 实现流程\n",
    "    - 可以对登录首页进行截图，在通过裁剪的操作将验证码图片进行获取\n",
    "    - 验证码图片提交给打码平台进行识别"
   ]
  },
  {
   "cell_type": "code",
   "execution_count": 17,
   "metadata": {},
   "outputs": [],
   "source": [
    "from PIL import Image #进行裁剪"
   ]
  },
  {
   "cell_type": "markdown",
   "metadata": {},
   "source": [
    "- 环境安装：\n",
    "    - pip install PIL\n",
    "    - pip install Pillow"
   ]
  },
  {
   "cell_type": "code",
   "execution_count": 23,
   "metadata": {},
   "outputs": [
    {
     "name": "stdout",
     "output_type": "stream",
     "text": [
      "30 66\n",
      "120 141\n"
     ]
    }
   ],
   "source": [
    "from selenium.webdriver import ActionChains#动作链类\n",
    "from selenium import webdriver\n",
    "bro = webdriver.Chrome(executable_path='./chromedriver')\n",
    "bro.get('https://kyfw.12306.cn/otn/login/init')\n",
    "sleep(1)\n",
    "#首页的截图\n",
    "bro.save_screenshot('./main.png')\n",
    "#将验证码图片进行裁剪\n",
    "img_tag = bro.find_element_by_xpath('//*[@id=\"loginForm\"]/div/ul[2]/li[4]/div/div/div[3]/img')\n",
    "location = img_tag.location #img_tag标签在页面中的起始位置\n",
    "size = img_tag.size #img_tag在页面中显示的尺寸\n",
    "#存储的就是验证码图片左下角和右上角的坐标\n",
    "rangle = (int(location['x']),int(location['y']),int(location['x']+size['width']),int(location['y']+size['height']))\n",
    "#接下来就可以根据rangle进行验证码的裁剪\n",
    "i = Image.open('./main.png')\n",
    "frame = i.crop(rangle)#根据rangle进行指定区域裁剪\n",
    "frame.save('./code.png')\n",
    "\n",
    "#将验证码图片提交给超级鹰\n",
    "result = transform_codeImg('./code.png',9004)\n",
    "#将170,70|4,150转换成[[170,70],[4,150]]\n",
    "all_list = []#[[170,70],[4,150]]\n",
    "if '|' in result:\n",
    "    list_1 = result.split('|')\n",
    "    count_1 = len(list_1)\n",
    "    for i in range(count_1):\n",
    "        xy_list = []\n",
    "        x = int(list_1[i].split(',')[0])\n",
    "        y = int(list_1[i].split(',')[1])\n",
    "        xy_list.append(x)\n",
    "        xy_list.append(y)\n",
    "        all_list.append(xy_list)\n",
    "else:\n",
    "    x = int(result.split(',')[0])\n",
    "    y = int(result.split(',')[1])\n",
    "    xy_list = []\n",
    "    xy_list.append(x)\n",
    "    xy_list.append(y)\n",
    "    all_list.append(xy_list)\n",
    "    \n",
    "for loc in all_list:\n",
    "    x = loc[0]\n",
    "    y = loc[1]\n",
    "    print(x,y)\n",
    "    ActionChains(bro).move_to_element_with_offset(img_tag,x,y).click().perform()\n",
    "    sleep(1)\n",
    "\n",
    "user_tag = bro.find_element_by_id('username')\n",
    "user_tag.send_keys('123456')\n",
    "pwd_tag = bro.find_element_by_id('password')\n",
    "pwd_tag.send_keys('666666')\n",
    "sleep(2)\n",
    "bro.find_element_by_id('loginSub').click()\n",
    "sleep(5)\n",
    "bro.quit()\n",
    "\n"
   ]
  },
  {
   "cell_type": "code",
   "execution_count": null,
   "metadata": {},
   "outputs": [],
   "source": [
    "action.move_to_element_with_offset()"
   ]
  }
 ],
 "metadata": {
  "kernelspec": {
   "display_name": "Python 3",
   "language": "python",
   "name": "python3"
  },
  "language_info": {
   "codemirror_mode": {
    "name": "ipython",
    "version": 3
   },
   "file_extension": ".py",
   "mimetype": "text/x-python",
   "name": "python",
   "nbconvert_exporter": "python",
   "pygments_lexer": "ipython3",
   "version": "3.6.4"
  }
 },
 "nbformat": 4,
 "nbformat_minor": 2
}
